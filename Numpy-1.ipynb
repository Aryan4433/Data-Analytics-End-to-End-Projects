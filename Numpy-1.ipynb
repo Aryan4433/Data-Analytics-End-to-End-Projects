{
 "cells": [
  {
   "cell_type": "markdown",
   "id": "daf118c2",
   "metadata": {},
   "source": [
    "# Numpy..."
   ]
  },
  {
   "cell_type": "code",
   "execution_count": 1,
   "id": "20dac907",
   "metadata": {},
   "outputs": [],
   "source": [
    "# numpy numerical python...\n",
    "import numpy as np\n"
   ]
  },
  {
   "cell_type": "code",
   "execution_count": 2,
   "id": "f7dd8ebb",
   "metadata": {},
   "outputs": [
    {
     "name": "stdout",
     "output_type": "stream",
     "text": [
      "[2 2 2 2]\n",
      "<class 'numpy.ndarray'>\n"
     ]
    }
   ],
   "source": [
    "# convert list into array\n",
    "Di=np.array([10,20,30,40])\n",
    "ti=np.array([5,10,15,20])\n",
    "si=Di//ti\n",
    "print(si)\n",
    "print(type(si))"
   ]
  },
  {
   "cell_type": "code",
   "execution_count": 3,
   "id": "f53130bb",
   "metadata": {},
   "outputs": [],
   "source": [
    "# diff b\\w list and array...\n",
    "# nd no. of dimension"
   ]
  },
  {
   "cell_type": "code",
   "execution_count": 4,
   "id": "1b888866",
   "metadata": {},
   "outputs": [
    {
     "name": "stdout",
     "output_type": "stream",
     "text": [
      "<class 'numpy.ndarray'>\n",
      "1\n",
      "4\n",
      "int32\n",
      "(4,)\n"
     ]
    }
   ],
   "source": [
    "# methods\n",
    "a=np.array([1,2,3,4])\n",
    "print(type(a))\n",
    "print(a.ndim) #no. of dimension\n",
    "print(a.size) #size of array\n",
    "print(a.dtype) # type of array\n",
    "print(a.shape) # it only return elements can't give rows and coloum..."
   ]
  },
  {
   "cell_type": "code",
   "execution_count": 5,
   "id": "0a701223",
   "metadata": {},
   "outputs": [
    {
     "name": "stdout",
     "output_type": "stream",
     "text": [
      "[[1.2 3.2 6. ]\n",
      " [1.1 2.  1.3]\n",
      " [2.  3.2 2.2]\n",
      " [1.  2.  3. ]]\n",
      "<class 'numpy.ndarray'>\n",
      "2\n",
      "float64\n",
      "12\n",
      "4\n",
      "(4, 3)\n"
     ]
    }
   ],
   "source": [
    "a=np.array([[1.2,3.2,6],[1.1,2,1.3],[2,3.2,2.2],[1,2,3]])\n",
    "print(a)\n",
    "print(type(a))\n",
    "print(a.ndim) #dimension\n",
    "print(a.dtype) #give prefrence to float..\n",
    "print(a.size) #no. of elements\n",
    "print(len(a)) # no. of rows\n",
    "print(a.shape) #rows,coloum "
   ]
  },
  {
   "cell_type": "code",
   "execution_count": 6,
   "id": "c0a7b0c3",
   "metadata": {},
   "outputs": [
    {
     "name": "stdout",
     "output_type": "stream",
     "text": [
      "[[[[[[1]\n",
      "     [4]\n",
      "     [7]]]]]]\n",
      "(1, 1, 1, 1, 3, 1)\n"
     ]
    }
   ],
   "source": [
    "a=np.array([[[[[[1],[4],[7]]]]]])\n",
    "print(a)\n",
    "print(a.shape)"
   ]
  },
  {
   "cell_type": "code",
   "execution_count": 48,
   "id": "597e0cfa",
   "metadata": {},
   "outputs": [
    {
     "name": "stdout",
     "output_type": "stream",
     "text": [
      "[[[1]\n",
      "  [1]\n",
      "  [1]]\n",
      "\n",
      " [[2]\n",
      "  [2]\n",
      "  [2]]\n",
      "\n",
      " [[3]\n",
      "  [3]\n",
      "  [3]]]\n",
      "(3, 3, 1)\n"
     ]
    }
   ],
   "source": [
    "a=np.array([[[1],[1],[1]],[[2],[2],[2]],[[3],[3],[3]]])\n",
    "print(a)\n",
    "print(a.shape)"
   ]
  },
  {
   "cell_type": "code",
   "execution_count": 8,
   "id": "9a57d283",
   "metadata": {},
   "outputs": [
    {
     "data": {
      "text/plain": [
       "array([[False,  True,  True,  True,  True,  True],\n",
       "       [False,  True,  True,  True, False,  True]])"
      ]
     },
     "execution_count": 8,
     "metadata": {},
     "output_type": "execute_result"
    }
   ],
   "source": [
    "# condition on array\n",
    "marks=np.array([[44,55,66,77,88,99],[44,65,78,66,45,99]])\n",
    "passing_marks=50\n",
    "marks>passing_marks"
   ]
  },
  {
   "cell_type": "code",
   "execution_count": 9,
   "id": "63a19809",
   "metadata": {},
   "outputs": [
    {
     "name": "stdout",
     "output_type": "stream",
     "text": [
      "[55 66 77 88 99 65 78 66 99]\n"
     ]
    }
   ],
   "source": [
    "a=marks[marks>passing_marks]\n",
    "print(a)"
   ]
  },
  {
   "cell_type": "code",
   "execution_count": 10,
   "id": "7f9e5fe5",
   "metadata": {},
   "outputs": [],
   "source": [
    "# Shallow copy and deep copy"
   ]
  },
  {
   "cell_type": "code",
   "execution_count": 11,
   "id": "062021f8",
   "metadata": {},
   "outputs": [
    {
     "name": "stdout",
     "output_type": "stream",
     "text": [
      "[['Agra' 'Aligarh' 'kanpur']\n",
      " ['lucknow' 'brailey' 'mirzapur']]\n",
      "[['Agra' 'Aligarh' 'kanpur']\n",
      " ['lucknow' 'brailey' 'mirzapur']]\n"
     ]
    }
   ],
   "source": [
    "B=np.array([['Agra','Aligarh','kanpur'],[\"lucknow\",'brailey','mirzapur']])\n",
    "C=B\n",
    "print(C)\n",
    "print(B)"
   ]
  },
  {
   "cell_type": "code",
   "execution_count": 12,
   "id": "2e31cd8c",
   "metadata": {},
   "outputs": [
    {
     "name": "stdout",
     "output_type": "stream",
     "text": [
      "[['Agra' 'Aligarh' 'kanpur']\n",
      " ['lucknow' 'Delhi' 'mirzapur']]\n"
     ]
    }
   ],
   "source": [
    "# shallow copy it can change orignal array\n",
    "C[1][1]=\"Delhi\"\n",
    "print(C)"
   ]
  },
  {
   "cell_type": "code",
   "execution_count": 13,
   "id": "7612cc9d",
   "metadata": {},
   "outputs": [
    {
     "name": "stdout",
     "output_type": "stream",
     "text": [
      "[['Agra' 'Aligarh' 'kanpur']\n",
      " ['lucknow' 'Delhi' 'mirzapur']]\n"
     ]
    }
   ],
   "source": [
    "print(B)"
   ]
  },
  {
   "cell_type": "code",
   "execution_count": 14,
   "id": "d782445d",
   "metadata": {},
   "outputs": [
    {
     "name": "stdout",
     "output_type": "stream",
     "text": [
      "[['Agra' 'Aligarh' 'kanpur']\n",
      " ['lucknow' 'brailey' 'mirzapur']]\n",
      "[['Agra' 'Aligarh' 'kanpur']\n",
      " ['lucknow' 'brailey' 'mirzapur']]\n"
     ]
    }
   ],
   "source": [
    "A=np.array([['Agra','Aligarh','kanpur'],[\"lucknow\",'brailey','mirzapur']])\n",
    "D=A.copy()\n",
    "print(A)\n",
    "print(D)"
   ]
  },
  {
   "cell_type": "code",
   "execution_count": 15,
   "id": "763b0dcb",
   "metadata": {},
   "outputs": [
    {
     "name": "stdout",
     "output_type": "stream",
     "text": [
      "[['Agra' 'Aligarh' 'kanpur']\n",
      " ['lucknow' 'Delhi' 'mirzapur']]\n"
     ]
    }
   ],
   "source": [
    "# deep copy it can't change orignal array\n",
    "D[1][1]=\"Delhi\"\n",
    "print(D)"
   ]
  },
  {
   "cell_type": "code",
   "execution_count": 16,
   "id": "7f28c934",
   "metadata": {},
   "outputs": [
    {
     "name": "stdout",
     "output_type": "stream",
     "text": [
      "[['Agra' 'Aligarh' 'kanpur']\n",
      " ['lucknow' 'brailey' 'mirzapur']]\n"
     ]
    }
   ],
   "source": [
    "print(A)"
   ]
  },
  {
   "cell_type": "code",
   "execution_count": 17,
   "id": "0203062d",
   "metadata": {},
   "outputs": [],
   "source": [
    "# Mathematical "
   ]
  },
  {
   "cell_type": "code",
   "execution_count": 18,
   "id": "65b29500",
   "metadata": {},
   "outputs": [
    {
     "data": {
      "text/plain": [
       "array([[1.        , 1.41421356, 1.73205081]])"
      ]
     },
     "execution_count": 18,
     "metadata": {},
     "output_type": "execute_result"
    }
   ],
   "source": [
    "a=np.array([[1,2,3]])\n",
    "np.sqrt(a)\n"
   ]
  },
  {
   "cell_type": "code",
   "execution_count": 19,
   "id": "ff6216f4",
   "metadata": {},
   "outputs": [],
   "source": [
    "# shape manipulation"
   ]
  },
  {
   "cell_type": "code",
   "execution_count": 20,
   "id": "3bd263c5",
   "metadata": {},
   "outputs": [
    {
     "name": "stdout",
     "output_type": "stream",
     "text": [
      "(2, 6)\n"
     ]
    }
   ],
   "source": [
    "x=np.array([[1,2,3,4,5,6],[7,8,9,10,11,12]])\n",
    "print(x.shape)"
   ]
  },
  {
   "cell_type": "code",
   "execution_count": 21,
   "id": "709a77b6",
   "metadata": {},
   "outputs": [
    {
     "name": "stdout",
     "output_type": "stream",
     "text": [
      "[[ 1]\n",
      " [ 2]\n",
      " [ 3]\n",
      " [ 4]\n",
      " [ 5]\n",
      " [ 6]\n",
      " [ 7]\n",
      " [ 8]\n",
      " [ 9]\n",
      " [10]\n",
      " [11]\n",
      " [12]]\n",
      "[[ 1  2  3  4  5  6  7  8  9 10 11 12]]\n",
      "[[ 1  2  3  4]\n",
      " [ 5  6  7  8]\n",
      " [ 9 10 11 12]]\n",
      "[[ 1  2  3]\n",
      " [ 4  5  6]\n",
      " [ 7  8  9]\n",
      " [10 11 12]]\n",
      "[[ 1  2  3  4  5  6]\n",
      " [ 7  8  9 10 11 12]]\n",
      "[[ 1  2]\n",
      " [ 3  4]\n",
      " [ 5  6]\n",
      " [ 7  8]\n",
      " [ 9 10]\n",
      " [11 12]]\n",
      "[[ 1  2  3  4  5  6]\n",
      " [ 7  8  9 10 11 12]]\n"
     ]
    }
   ],
   "source": [
    "print(x.reshape(12,1))# reshape can't change orignal array\n",
    "print(x.reshape(1,12))\n",
    "print(x.reshape(3,4))\n",
    "print(x.reshape(4,3))\n",
    "print(x.reshape(2,6))\n",
    "print(x.reshape(6,2))\n",
    "# orignal array\n",
    "print(x)"
   ]
  },
  {
   "cell_type": "code",
   "execution_count": 22,
   "id": "cb8acf5c",
   "metadata": {},
   "outputs": [],
   "source": [
    "x.resize(3,4)# resize change the orignal array"
   ]
  },
  {
   "cell_type": "code",
   "execution_count": 23,
   "id": "6b157b9f",
   "metadata": {},
   "outputs": [
    {
     "name": "stdout",
     "output_type": "stream",
     "text": [
      "[[ 1  2  3  4]\n",
      " [ 5  6  7  8]\n",
      " [ 9 10 11 12]]\n"
     ]
    }
   ],
   "source": [
    "print(x)"
   ]
  },
  {
   "cell_type": "code",
   "execution_count": 24,
   "id": "c555af6a",
   "metadata": {},
   "outputs": [
    {
     "name": "stdout",
     "output_type": "stream",
     "text": [
      "1\n",
      "[[ 1  2  3  4]\n",
      " [ 5  6  7  8]\n",
      " [ 9 10 11 12]]\n"
     ]
    }
   ],
   "source": [
    "# ravel:it change multi dimension array into 1 d array\n",
    "Z=x.ravel()\n",
    "print(Z.ndim)\n",
    "print(x)"
   ]
  },
  {
   "cell_type": "code",
   "execution_count": 25,
   "id": "9fa83ce3",
   "metadata": {},
   "outputs": [
    {
     "name": "stdout",
     "output_type": "stream",
     "text": [
      "4\n",
      "[101 102 103 104 105 106 107 108 109 110   1   2   3   4   5]\n",
      "[[[[101 102 103 104 105]\n",
      "   [106 107 108 109 110]\n",
      "   [  1   2   3   4   5]]]]\n"
     ]
    }
   ],
   "source": [
    "a=np.array([[[[101,102,103,104,105],[106,107,108,109,110],[1,2,3,4,5]]]])\n",
    "print(a.ndim)\n",
    "b=a.ravel()\n",
    "print(b)\n",
    "# orignal array has  change\n",
    "print(a)"
   ]
  },
  {
   "cell_type": "code",
   "execution_count": 26,
   "id": "17991c89",
   "metadata": {},
   "outputs": [
    {
     "data": {
      "text/plain": [
       "array([[[[101, 102, 103, 104, 105],\n",
       "         [106, 107, 108, 109, 110],\n",
       "         [  1,   2,   3,   4,   5]]]])"
      ]
     },
     "execution_count": 26,
     "metadata": {},
     "output_type": "execute_result"
    }
   ],
   "source": [
    "a"
   ]
  },
  {
   "cell_type": "code",
   "execution_count": 27,
   "id": "4321faa1",
   "metadata": {},
   "outputs": [
    {
     "data": {
      "text/plain": [
       "array([101, 102, 103, 104, 105, 106, 107, 108, 109, 110,   1,   2,   3,\n",
       "         4,   5])"
      ]
     },
     "execution_count": 27,
     "metadata": {},
     "output_type": "execute_result"
    }
   ],
   "source": [
    "b"
   ]
  },
  {
   "cell_type": "code",
   "execution_count": 28,
   "id": "3cfc87c4",
   "metadata": {},
   "outputs": [],
   "source": [
    "b[0]=100"
   ]
  },
  {
   "cell_type": "code",
   "execution_count": 29,
   "id": "605f680b",
   "metadata": {},
   "outputs": [
    {
     "data": {
      "text/plain": [
       "array([100, 102, 103, 104, 105, 106, 107, 108, 109, 110,   1,   2,   3,\n",
       "         4,   5])"
      ]
     },
     "execution_count": 29,
     "metadata": {},
     "output_type": "execute_result"
    }
   ],
   "source": [
    "b"
   ]
  },
  {
   "cell_type": "code",
   "execution_count": 30,
   "id": "5a246675",
   "metadata": {},
   "outputs": [
    {
     "data": {
      "text/plain": [
       "array([[[[100, 102, 103, 104, 105],\n",
       "         [106, 107, 108, 109, 110],\n",
       "         [  1,   2,   3,   4,   5]]]])"
      ]
     },
     "execution_count": 30,
     "metadata": {},
     "output_type": "execute_result"
    }
   ],
   "source": [
    "a"
   ]
  },
  {
   "cell_type": "code",
   "execution_count": 31,
   "id": "1d4ab3d7",
   "metadata": {},
   "outputs": [
    {
     "name": "stdout",
     "output_type": "stream",
     "text": [
      "4\n"
     ]
    }
   ],
   "source": [
    "# flatten() can't change orignal array\n",
    "a=np.array([[[[101,102,103,104,105],[106,107,108,109,110],[1,2,3,4,5]]]])\n",
    "print(a.ndim)\n",
    "b=a.flatten()"
   ]
  },
  {
   "cell_type": "code",
   "execution_count": 32,
   "id": "26f571b4",
   "metadata": {},
   "outputs": [
    {
     "data": {
      "text/plain": [
       "array([101, 102, 103, 104, 105, 106, 107, 108, 109, 110,   1,   2,   3,\n",
       "         4,   5])"
      ]
     },
     "execution_count": 32,
     "metadata": {},
     "output_type": "execute_result"
    }
   ],
   "source": [
    "b"
   ]
  },
  {
   "cell_type": "code",
   "execution_count": 33,
   "id": "fe992aea",
   "metadata": {},
   "outputs": [],
   "source": [
    "b[0]=50"
   ]
  },
  {
   "cell_type": "code",
   "execution_count": 34,
   "id": "663995dd",
   "metadata": {},
   "outputs": [
    {
     "data": {
      "text/plain": [
       "array([ 50, 102, 103, 104, 105, 106, 107, 108, 109, 110,   1,   2,   3,\n",
       "         4,   5])"
      ]
     },
     "execution_count": 34,
     "metadata": {},
     "output_type": "execute_result"
    }
   ],
   "source": [
    "b"
   ]
  },
  {
   "cell_type": "code",
   "execution_count": 35,
   "id": "457fcc72",
   "metadata": {},
   "outputs": [
    {
     "data": {
      "text/plain": [
       "array([[[[101, 102, 103, 104, 105],\n",
       "         [106, 107, 108, 109, 110],\n",
       "         [  1,   2,   3,   4,   5]]]])"
      ]
     },
     "execution_count": 35,
     "metadata": {},
     "output_type": "execute_result"
    }
   ],
   "source": [
    "a"
   ]
  },
  {
   "cell_type": "markdown",
   "id": "a8a655ec",
   "metadata": {},
   "source": [
    "# Broadcasting"
   ]
  },
  {
   "cell_type": "code",
   "execution_count": 2,
   "id": "f9b98d1b",
   "metadata": {},
   "outputs": [
    {
     "name": "stdout",
     "output_type": "stream",
     "text": [
      "6\n",
      "(1, 1, 1, 2, 2, 4)\n",
      "16\n",
      "[[[[[[1 2 3 4]\n",
      "     [1 2 3 4]]\n",
      "\n",
      "    [[1 2 3 4]\n",
      "     [1 2 3 4]]]]]]\n"
     ]
    }
   ],
   "source": [
    "import numpy as np\n",
    "\n",
    "a=np.array([[[[ [[1,2,3,4],[1,2,3,4]] , [[1,2,3,4],[1,2,3,4]] ]]]])\n",
    "print(a.ndim)\n",
    "print(a.shape)\n",
    "print(a.size)\n",
    "print(a)"
   ]
  },
  {
   "cell_type": "code",
   "execution_count": 36,
   "id": "46e3efd5",
   "metadata": {},
   "outputs": [],
   "source": [
    "# ndim"
   ]
  },
  {
   "cell_type": "code",
   "execution_count": 37,
   "id": "5d19ce42",
   "metadata": {},
   "outputs": [
    {
     "data": {
      "text/plain": [
       "array([[[[[1, 2, 3, 4],\n",
       "          [5, 6, 7, 8]]]]])"
      ]
     },
     "execution_count": 37,
     "metadata": {},
     "output_type": "execute_result"
    }
   ],
   "source": [
    "x=np.array([[[1,2,3,4],[5,6,7,8]]],ndmin=5)\n",
    "x"
   ]
  },
  {
   "cell_type": "code",
   "execution_count": 38,
   "id": "3facc190",
   "metadata": {},
   "outputs": [
    {
     "name": "stdout",
     "output_type": "stream",
     "text": [
      "(4, 3)\n",
      "[[ 1  2  3]\n",
      " [ 4  5  6]\n",
      " [ 7  8  9]\n",
      " [10 11 12]]\n"
     ]
    }
   ],
   "source": [
    "ARR=np.array([[1,2,3],[4,5,6],[7,8,9],[10,11,12]])\n",
    "print(ARR.shape)\n",
    "print(ARR)\n"
   ]
  },
  {
   "cell_type": "code",
   "execution_count": 39,
   "id": "d877b7e5",
   "metadata": {},
   "outputs": [
    {
     "name": "stdout",
     "output_type": "stream",
     "text": [
      "[22 26 30]\n",
      "[ 6 15 24 33]\n"
     ]
    }
   ],
   "source": [
    "print(ARR.sum(axis=0)) #rows\n",
    "print(ARR.sum(axis=1)) #coloum"
   ]
  },
  {
   "cell_type": "code",
   "execution_count": 40,
   "id": "8084ea84",
   "metadata": {},
   "outputs": [
    {
     "data": {
      "text/plain": [
       "array([[ 1,  4,  7, 10],\n",
       "       [ 2,  5,  8, 11],\n",
       "       [ 3,  6,  9, 12]])"
      ]
     },
     "execution_count": 40,
     "metadata": {},
     "output_type": "execute_result"
    }
   ],
   "source": [
    "ARR.T  #T is for tanspose....."
   ]
  },
  {
   "cell_type": "code",
   "execution_count": 41,
   "id": "b83a82bf",
   "metadata": {},
   "outputs": [
    {
     "data": {
      "text/plain": [
       "array([[1, 2],\n",
       "       [3, 4]])"
      ]
     },
     "execution_count": 41,
     "metadata": {},
     "output_type": "execute_result"
    }
   ],
   "source": [
    "a=np.array([[1,2],[3,4]])\n",
    "a"
   ]
  },
  {
   "cell_type": "code",
   "execution_count": 42,
   "id": "1eeb1898",
   "metadata": {},
   "outputs": [],
   "source": [
    "b=np.linalg.inv(a)"
   ]
  },
  {
   "cell_type": "code",
   "execution_count": 43,
   "id": "d018a5c2",
   "metadata": {},
   "outputs": [
    {
     "data": {
      "text/plain": [
       "array([[-2. ,  1. ],\n",
       "       [ 1.5, -0.5]])"
      ]
     },
     "execution_count": 43,
     "metadata": {},
     "output_type": "execute_result"
    }
   ],
   "source": [
    "b"
   ]
  },
  {
   "cell_type": "code",
   "execution_count": 8,
   "id": "4bab746a",
   "metadata": {
    "scrolled": true
   },
   "outputs": [],
   "source": [
    "# a.trace()"
   ]
  },
  {
   "cell_type": "code",
   "execution_count": 2,
   "id": "9fb590e2",
   "metadata": {},
   "outputs": [],
   "source": [
    "import numpy as np"
   ]
  },
  {
   "cell_type": "code",
   "execution_count": 6,
   "id": "7085f0b6",
   "metadata": {},
   "outputs": [
    {
     "name": "stdout",
     "output_type": "stream",
     "text": [
      "<class 'numpy.matrix'>\n",
      "[[195 168 168]\n",
      " [144 123 120]\n",
      " [ 69  60  60]]\n"
     ]
    }
   ],
   "source": [
    "# matrix\n",
    "# matrix only be in Two dimension can't be one and single dimension...\n",
    "x=np.mat([[10,9,8],[7,6,8],[4,3,2]])\n",
    "y=np.mat([[10,9,8],[7,6,8],[4,3,2]])\n",
    "print(type(x))\n",
    "print(x*y)"
   ]
  },
  {
   "cell_type": "markdown",
   "id": "6a275add",
   "metadata": {},
   "source": [
    "# nuumpy.fromfunction"
   ]
  },
  {
   "cell_type": "code",
   "execution_count": 10,
   "id": "44408d5a",
   "metadata": {},
   "outputs": [
    {
     "data": {
      "text/plain": [
       "array([[0., 1., 2.],\n",
       "       [1., 2., 3.],\n",
       "       [2., 3., 4.]])"
      ]
     },
     "execution_count": 10,
     "metadata": {},
     "output_type": "execute_result"
    }
   ],
   "source": [
    "np.fromfunction(lambda i,j:i+j,(3,3)) #by default float type hota h"
   ]
  },
  {
   "cell_type": "code",
   "execution_count": 11,
   "id": "063cdffb",
   "metadata": {},
   "outputs": [
    {
     "data": {
      "text/plain": [
       "array([[0, 0, 0, 0],\n",
       "       [0, 1, 2, 3],\n",
       "       [0, 2, 4, 6],\n",
       "       [0, 3, 6, 9]])"
      ]
     },
     "execution_count": 11,
     "metadata": {},
     "output_type": "execute_result"
    }
   ],
   "source": [
    "np.fromfunction(lambda i,j:i*j,(4,4), dtype=int) #dtype=int chaiye"
   ]
  },
  {
   "cell_type": "code",
   "execution_count": 14,
   "id": "3e31ef31",
   "metadata": {},
   "outputs": [
    {
     "data": {
      "text/plain": [
       "array([[False, False, False, False],\n",
       "       [ True, False, False, False],\n",
       "       [ True,  True, False, False],\n",
       "       [ True,  True,  True, False]])"
      ]
     },
     "execution_count": 14,
     "metadata": {},
     "output_type": "execute_result"
    }
   ],
   "source": [
    "np.fromfunction(lambda i,j:i>j,(4,4))"
   ]
  },
  {
   "cell_type": "markdown",
   "id": "655d5253",
   "metadata": {},
   "source": [
    "# arange and linespacce"
   ]
  },
  {
   "cell_type": "code",
   "execution_count": 16,
   "id": "bcb66fce",
   "metadata": {},
   "outputs": [
    {
     "data": {
      "text/plain": [
       "array([ 1,  2,  3,  4,  5,  6,  7,  8,  9, 10])"
      ]
     },
     "execution_count": 16,
     "metadata": {},
     "output_type": "execute_result"
    }
   ],
   "source": [
    "np.arange(1,11) # print 1 to 10 in array "
   ]
  },
  {
   "cell_type": "code",
   "execution_count": 1,
   "id": "41c2493f",
   "metadata": {},
   "outputs": [],
   "source": [
    "# data norml distribution  h ki nhi"
   ]
  }
 ],
 "metadata": {
  "kernelspec": {
   "display_name": "Python 3",
   "language": "python",
   "name": "python3"
  },
  "language_info": {
   "codemirror_mode": {
    "name": "ipython",
    "version": 3
   },
   "file_extension": ".py",
   "mimetype": "text/x-python",
   "name": "python",
   "nbconvert_exporter": "python",
   "pygments_lexer": "ipython3",
   "version": "3.8.8"
  }
 },
 "nbformat": 4,
 "nbformat_minor": 5
}
